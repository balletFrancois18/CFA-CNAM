{
  "nbformat": 4,
  "nbformat_minor": 0,
  "metadata": {
    "colab": {
      "provenance": []
    },
    "kernelspec": {
      "name": "python3",
      "display_name": "Python 3"
    },
    "language_info": {
      "name": "python"
    }
  },
  "cells": [
    {
      "cell_type": "markdown",
      "source": [
        "# Application du k-nearest neighbors et du k-means"
      ],
      "metadata": {
        "id": "JS3lBhs6teMh"
      }
    },
    {
      "cell_type": "markdown",
      "source": [
        "## Importation des librairies nécessaires"
      ],
      "metadata": {
        "id": "4b2E6rtJtnnx"
      }
    },
    {
      "cell_type": "code",
      "execution_count": null,
      "metadata": {
        "id": "isvnGAFEtZsu"
      },
      "outputs": [],
      "source": [
        "import numpy as np\n",
        "from sklearn.model_selection import train_test_split\n",
        "import matplotlib.pyplot as plt\n",
        "import seaborn as sns\n",
        "from mpl_toolkits.mplot3d import Axes3D\n",
        "import plotly.express as px"
      ]
    },
    {
      "cell_type": "code",
      "source": [
        "import pandas as pd"
      ],
      "metadata": {
        "id": "RbhI8hXj7GRU"
      },
      "execution_count": null,
      "outputs": []
    },
    {
      "cell_type": "markdown",
      "source": [
        "##Chargement des données"
      ],
      "metadata": {
        "id": "Zasz9phGu4KS"
      }
    },
    {
      "cell_type": "markdown",
      "source": [
        "Nous allons ici utiliser le dataset Mall_Customers (disponible sur Kaggle https://www.kaggle.com/datasets/shwetabh123/mall-customers). Ce dataset contient les profils de clients allant au centre commercial, avec comme features l'âge, le genre, le niveau de revenu, et un score de 1 à 100 sur le niveau de dépense du client.\n",
        "\n",
        "Il est très courant en étude de marché de diviser les clients en plusieurs groupes : c'est la segmentation des clients. Nous allons utiliser l'algorithme du kmeans pour diviser les clients du dataset en plusieurs groupes cohérents."
      ],
      "metadata": {
        "id": "ZGhMh9K-7b_H"
      }
    },
    {
      "cell_type": "code",
      "source": [
        "mall = pd.read_csv(\"Mall_Customers.csv\")  # Chargement du dataset"
      ],
      "metadata": {
        "id": "KNrVm3jW65Jy"
      },
      "execution_count": null,
      "outputs": []
    },
    {
      "cell_type": "code",
      "source": [
        "mall.head()"
      ],
      "metadata": {
        "id": "MXuDj7hM7Lq8"
      },
      "execution_count": null,
      "outputs": []
    },
    {
      "cell_type": "markdown",
      "source": [
        "## Premières statistiques sur le dataframe"
      ],
      "metadata": {
        "id": "8jQWBe0uvNiD"
      }
    },
    {
      "cell_type": "markdown",
      "source": [
        "Nous allons dans cette partie rappeler des fonctions de la librairie pandas.\n",
        "\n",
        "Rappelons tout d'abord que pour calculer la moyenne d'une colonne \"Colonne\" d'un tableau tab, nous pouvons utiliser la fonction mean(). Ainsi, pour calculer la moyenne d'âge des clients, nous utlisons le code suivant :"
      ],
      "metadata": {
        "id": "Dnn7hfid8yGC"
      }
    },
    {
      "cell_type": "code",
      "source": [
        "mall[\"Age\"].mean()"
      ],
      "metadata": {
        "id": "ps0j6ZT684sL"
      },
      "execution_count": null,
      "outputs": []
    },
    {
      "cell_type": "markdown",
      "source": [
        "Pour obtenir les différentes valeurs présentes dans une colonne (ainsi que leur nombre d'occurences), nous pouvons utiliser la fonction value_counts(). Ainsi, pour obtenir la répartition des âges des clients du dataset, nous utilisons le code suivant :"
      ],
      "metadata": {
        "id": "jxNooe5q9Tbp"
      }
    },
    {
      "cell_type": "code",
      "source": [
        "mall[\"Age\"].value_counts()"
      ],
      "metadata": {
        "id": "F0LKc8jv8xcU"
      },
      "execution_count": null,
      "outputs": []
    },
    {
      "cell_type": "markdown",
      "source": [
        "La fonction groupby permet d'obtenir des statistiques sur le tableau en le sous-divisant en plusieurs catégories en fonction de certaines features.\n",
        "\n",
        "Par exemple, si nous voulons obtenir la moyenne de la colonne \"Colonne2\" sur le tableau tab, mais en divisant le calcul en fonction des différentes valeurs de \"Colonne1\", on écrira : tab.groupby([\"Colonne1\"])[\"Colonne2].mean().\n",
        "\n",
        "Ainsi, si on veut calculer la moyenne d'âge des clients du dataset, mais en divisant les statistiques selon le genre des clients, nous obtenons le code suivant :"
      ],
      "metadata": {
        "id": "rbTU2H3h9tO7"
      }
    },
    {
      "cell_type": "code",
      "source": [
        "mall.groupby(\"Genre\")[\"Age\"].mean()"
      ],
      "metadata": {
        "id": "Lj_FRudi9qkv"
      },
      "execution_count": null,
      "outputs": []
    },
    {
      "cell_type": "markdown",
      "source": [
        "Nous pouvons sélectionner des sous-tableaux du tableau initial tab.\n",
        "\n",
        "Ainsi, pour sélectionner le tableau avec uniquement les clients de plus de 50 ans, nous utilisons le code suivant :"
      ],
      "metadata": {
        "id": "rzuwS6BE-jf7"
      }
    },
    {
      "cell_type": "code",
      "source": [
        "mall[mall[\"Age\"] > 50]"
      ],
      "metadata": {
        "id": "3dI0-vfg-ekb"
      },
      "execution_count": null,
      "outputs": []
    },
    {
      "cell_type": "markdown",
      "source": [
        "Finalement, pour obtenir le nombre de lignes du tableau tab, nous pouvons utiliser tab.shape[0].\n",
        "\n",
        "Pour obtenir le nombre de clients du dataset, on utilisera donc :"
      ],
      "metadata": {
        "id": "FxS4HU2S_tfy"
      }
    },
    {
      "cell_type": "code",
      "source": [
        "mall.shape[0]"
      ],
      "metadata": {
        "id": "HN-s8u1UAnAR"
      },
      "execution_count": null,
      "outputs": []
    },
    {
      "cell_type": "markdown",
      "source": [
        "Ainsi, pour obtenir le nombre de clients du dataset qui sont des femmes et ont plus de 50 ans, on écrira :"
      ],
      "metadata": {
        "id": "Gi39vaFnAdvB"
      }
    },
    {
      "cell_type": "code",
      "source": [
        "mall[(mall[\"Age\"]>50) & (mall[\"Genre\"] == \"Female\")].shape[0]"
      ],
      "metadata": {
        "id": "hVeY5_2FAN1u"
      },
      "execution_count": null,
      "outputs": []
    },
    {
      "cell_type": "markdown",
      "source": [
        "###Question 1"
      ],
      "metadata": {
        "id": "a_X3Kdml_TfA"
      }
    },
    {
      "cell_type": "markdown",
      "source": [
        "Quel est le revenu moyen des clients du dataset ?"
      ],
      "metadata": {
        "id": "bk5LCjfm_VvH"
      }
    },
    {
      "cell_type": "code",
      "source": [
        "### A COMPLETER"
      ],
      "metadata": {
        "id": "sfSrz78B-9o-"
      },
      "execution_count": null,
      "outputs": []
    },
    {
      "cell_type": "markdown",
      "source": [
        "Le revenu moyen est **A COMPLETER**."
      ],
      "metadata": {
        "id": "l1N_rBhl_blM"
      }
    },
    {
      "cell_type": "markdown",
      "source": [
        "###Question 2\n",
        "Combien y a t-il de femmes dans le dataset ?"
      ],
      "metadata": {
        "id": "o6fINaoB_g5-"
      }
    },
    {
      "cell_type": "code",
      "source": [
        "### A COMPLETER"
      ],
      "metadata": {
        "id": "zsLgCk8J_f3J"
      },
      "execution_count": null,
      "outputs": []
    },
    {
      "cell_type": "markdown",
      "source": [
        "Il y a **A COMPLETER** femmes dans le dataset."
      ],
      "metadata": {
        "id": "KKzNEF76_n2V"
      }
    },
    {
      "cell_type": "markdown",
      "source": [
        "###Question 3\n",
        "Quel est le score moyen de dépense des clients ?\n"
      ],
      "metadata": {
        "id": "VptehPgABC0_"
      }
    },
    {
      "cell_type": "code",
      "source": [
        "### A COMPLETER"
      ],
      "metadata": {
        "id": "QHN6vorfBd60"
      },
      "execution_count": null,
      "outputs": []
    },
    {
      "cell_type": "markdown",
      "source": [
        "Le score moyen de dépense des clients est de **A COMPLETER**."
      ],
      "metadata": {
        "id": "Vzx9W2UsBkMk"
      }
    },
    {
      "cell_type": "markdown",
      "source": [
        "###Question 4\n",
        "Quel est le score moyen de dépense des clients de moins de 30 ans ?"
      ],
      "metadata": {
        "id": "6ExLJcTxBpE8"
      }
    },
    {
      "cell_type": "code",
      "source": [
        "###A COMPLETER"
      ],
      "metadata": {
        "id": "1nxxyH1fBwRt"
      },
      "execution_count": null,
      "outputs": []
    },
    {
      "cell_type": "markdown",
      "source": [
        "Le score moyen de dépense des clients de moins de 30 ans est de **A COMPLETER**."
      ],
      "metadata": {
        "id": "oGBukP0SHVor"
      }
    },
    {
      "cell_type": "markdown",
      "source": [
        "###Question 5\n",
        "Quel est le score moyen de dépense des clients de plus de 30 ans ?"
      ],
      "metadata": {
        "id": "DhPa_8LiBz9D"
      }
    },
    {
      "cell_type": "code",
      "source": [
        "### A COMPLETER"
      ],
      "metadata": {
        "id": "Fz7DM78AB-4N"
      },
      "execution_count": null,
      "outputs": []
    },
    {
      "cell_type": "markdown",
      "source": [
        "Le score moyen de dépense des clients de plus de 30 ans est **A COMPLETER**."
      ],
      "metadata": {
        "id": "KOB_CfxWB5bW"
      }
    },
    {
      "cell_type": "markdown",
      "source": [
        "###Question 6\n",
        "Combien y a t-il d'hommes de moins de 15 ans dans le dataset ?"
      ],
      "metadata": {
        "id": "0GOYsh--AtfW"
      }
    },
    {
      "cell_type": "code",
      "source": [
        "### A COMPLETER"
      ],
      "metadata": {
        "id": "zBovR8vFA9es"
      },
      "execution_count": null,
      "outputs": []
    },
    {
      "cell_type": "markdown",
      "source": [
        "Il y a **A COMPLETER** hommes de moins de 15 ans."
      ],
      "metadata": {
        "id": "LLbvnh9CA5sC"
      }
    },
    {
      "cell_type": "markdown",
      "source": [
        "##Application du kmeans"
      ],
      "metadata": {
        "id": "XMRcQRGFDXOA"
      }
    },
    {
      "cell_type": "code",
      "source": [
        "from sklearn.cluster import KMeans"
      ],
      "metadata": {
        "id": "mhYJ6ZdeEUFG"
      },
      "execution_count": null,
      "outputs": []
    },
    {
      "cell_type": "code",
      "source": [
        "X = mall[[\"Age\",\"Genre\",\"Annual Income (k$)\", \"Spending Score (1-100)\"]]"
      ],
      "metadata": {
        "id": "XoLmuk3WEag-"
      },
      "execution_count": null,
      "outputs": []
    },
    {
      "cell_type": "markdown",
      "source": [
        "Comme à la séance 1, nous allons nous transformer les colonnes avec des éléments de type \"string\". Pour cela, nous allons utiliser la fonction get_dummies qui permet de remplacer la colonne par plusieurs nouvelles colonnes contenant des booléens.\n",
        "\n",
        "Ainsi, on remplacera la colonnes \"Genre\" par deux colonnes : \"Genre_Female\" et \"Genre_Male\". A chaque ligne, une seule des deux colonnes aura la valeur True."
      ],
      "metadata": {
        "id": "KipH9jjL-bYt"
      }
    },
    {
      "cell_type": "code",
      "source": [
        "X_encoded = pd.get_dummies(X, columns = [\"Genre\"])\n",
        "X_encoded.head()"
      ],
      "metadata": {
        "id": "oXdN0Iw2Ep3P"
      },
      "execution_count": null,
      "outputs": []
    },
    {
      "cell_type": "markdown",
      "source": [
        "###Question 7\n",
        "Nous allons désormais créer un kmeans, cherchant à diviser les données en 4 clusters.\n",
        "Intialisez le Kmeans, en regardant la documentation : https://scikit-learn.org/stable/modules/generated/sklearn.cluster.KMeans.html(sélectionner random_state = 42). Pour les questions 7 et 8, il sera nécessaire de se référer à cette documentation."
      ],
      "metadata": {
        "id": "XKzNRPEC_KPC"
      }
    },
    {
      "cell_type": "code",
      "source": [
        "kmeans = # A COMPLETER # Initialisation du Kmeans"
      ],
      "metadata": {
        "id": "wQczzyaIFwOs"
      },
      "execution_count": null,
      "outputs": []
    },
    {
      "cell_type": "markdown",
      "source": [
        "###Question 8\n",
        "Entraîner le Kmeans sur le dataset débarassé des chaines de caractère, X_encoded."
      ],
      "metadata": {
        "id": "D1npKTzEGZQw"
      }
    },
    {
      "cell_type": "code",
      "source": [
        "kmeans#A COMPLETER # Entraînement du kmeans"
      ],
      "metadata": {
        "id": "hBXvOOfWEmcV"
      },
      "execution_count": null,
      "outputs": []
    },
    {
      "cell_type": "code",
      "source": [
        "# Récupération des étiquettes de clusters attribuées par K-means\n",
        "mall['Cluster'] = kmeans.labels_   # Création d'une nouvelle colonne Cluster : chaque client aura pour étiquette le numéro de cluster correspondant\n",
        "mall.head()"
      ],
      "metadata": {
        "id": "pBqYX0LEE2mF"
      },
      "execution_count": null,
      "outputs": []
    },
    {
      "cell_type": "markdown",
      "source": [
        "###Question 9\n",
        "Combien y a t-il de clients par clusters ?"
      ],
      "metadata": {
        "id": "_baSQcgPuadi"
      }
    },
    {
      "cell_type": "code",
      "source": [
        "# Affichage des résultats\n",
        "print(\"\\n Nombre de clients par cluster :\")\n",
        "\n",
        "# A COMPLETER"
      ],
      "metadata": {
        "id": "it9iqFTcE7RJ"
      },
      "execution_count": null,
      "outputs": []
    },
    {
      "cell_type": "markdown",
      "source": [
        "Il y a **A COMPLETER** clients dans le cluster 0, **A COMPLETER** clients dans le cluster 1, **A COMPLETER** clients dans le cluster 2, **A COMPLETER** clients dans le cluster 3."
      ],
      "metadata": {
        "id": "Y5wDvCELukt6"
      }
    },
    {
      "cell_type": "markdown",
      "source": [
        "Nous allons désormais visualiser la répartition selon les différents clusters des clients. Pour cela, nous allons afficher la répartition des clients en fonction de 3 features : l'âge, le revenu annuel et le score de dépense."
      ],
      "metadata": {
        "id": "uocJ27YCuum3"
      }
    },
    {
      "cell_type": "code",
      "source": [
        "fig = px.scatter_3d(\n",
        "    mall,\n",
        "    x='Age',\n",
        "    y='Annual Income (k$)',\n",
        "    z='Spending Score (1-100)',\n",
        "    color='Cluster',\n",
        "    title='Clusters K-means sur le dataset Mall Customers (3D)',\n",
        "    labels={\n",
        "        'Age': 'Âge',\n",
        "        'Annual Income (k$)': 'Revenu Annuel (k$)',\n",
        "        'Spending Score (1-100)': 'Spending Score (1-100)'\n",
        "    },\n",
        "    opacity=0.7\n",
        ")\n",
        "\n",
        "fig.show()"
      ],
      "metadata": {
        "id": "MYnocgsSHKtY"
      },
      "execution_count": null,
      "outputs": []
    },
    {
      "cell_type": "markdown",
      "source": [
        "Nous allons ici afficher les centroïdes (la moyenne) des différents clusters. Ceci correspond au profil moyen de chacun des 4 groupes de clients."
      ],
      "metadata": {
        "id": "EuvwfCKJJKrf"
      }
    },
    {
      "cell_type": "code",
      "source": [
        "centroides = kmeans.cluster_centers_\n",
        "centroides_df = pd.DataFrame(centroides, columns=['Age', 'Annual Income (k$)', 'Spending Score (1-100)', 'Genre_Female', 'Genre_Male'])\n",
        "print(\"Coordonnées des centroides des clusters :\")\n",
        "centroides_df.head()"
      ],
      "metadata": {
        "id": "djP6cCbdJQ84"
      },
      "execution_count": null,
      "outputs": []
    },
    {
      "cell_type": "markdown",
      "source": [
        "###Question 10\n",
        "Décrivez grossièrement les caractéristiques de chacun des 4 groupes de clients.\n"
      ],
      "metadata": {
        "id": "ttUnMfmwIMb4"
      }
    },
    {
      "cell_type": "markdown",
      "source": [
        "**A COMPLETER**"
      ],
      "metadata": {
        "id": "eEoaYyGLIU3A"
      }
    },
    {
      "cell_type": "markdown",
      "source": [
        "##Application du KNN (k-nearest neighbors)"
      ],
      "metadata": {
        "id": "tTaUMbh5EPxF"
      }
    },
    {
      "cell_type": "code",
      "source": [
        "from sklearn.neighbors import KNeighborsClassifier\n",
        "from sklearn.metrics import accuracy_score"
      ],
      "metadata": {
        "id": "N9oxJ4wZDZEN"
      },
      "execution_count": null,
      "outputs": []
    },
    {
      "cell_type": "markdown",
      "source": [
        "Nous allons encore une fois utiliser la fonction get_dummies pour nous débarasser de la colonne \"Genre\", contenant des chaines de caractères (string)  pour créer deux nouvelles colonnes \"Genre_Male\" et \"Genre_Female\" qui contiennent des booléens, des types qui sont acceptés par la librairie scikit-learn."
      ],
      "metadata": {
        "id": "TaKAKPhuE47u"
      }
    },
    {
      "cell_type": "code",
      "source": [
        "X = pd.get_dummies(mall.drop(columns = \"Spending Score (1-100)\"), [\"Genre\"])"
      ],
      "metadata": {
        "id": "nNHT4B4Q7riF"
      },
      "execution_count": null,
      "outputs": []
    },
    {
      "cell_type": "code",
      "source": [
        "X.head()"
      ],
      "metadata": {
        "id": "-fAwkZ67FESz"
      },
      "execution_count": null,
      "outputs": []
    },
    {
      "cell_type": "code",
      "source": [
        "y = mall[\"Spending Score (1-100)\"]"
      ],
      "metadata": {
        "id": "4c7-0FjM75NZ"
      },
      "execution_count": null,
      "outputs": []
    },
    {
      "cell_type": "markdown",
      "source": [
        "Nous séparons désormais les données en deux parties : les données d'entraînement et les donnée de test."
      ],
      "metadata": {
        "id": "fTdvwbj4FSWf"
      }
    },
    {
      "cell_type": "code",
      "source": [
        "# Division des données en ensemble d'entraînement et de test (80% - 20%)\n",
        "X_train, X_test, y_train, y_test = train_test_split(X, y, test_size=0.2, random_state=42)\n"
      ],
      "metadata": {
        "id": "AgFfQwh-7qQu"
      },
      "execution_count": null,
      "outputs": []
    },
    {
      "cell_type": "markdown",
      "source": [
        "###Question 10\n",
        "Initialiser un K-nearest neighbors avec un nombre de voisins à 10.\n",
        "\n",
        "Il faudra examiner la documentation scikit-learn pour répondre aux prochaines questions (10,11,12) : https://scikit-learn.org/stable/modules/generated/sklearn.neighbors.KNeighborsClassifier.html.\n"
      ],
      "metadata": {
        "id": "KkMPbFwXDizA"
      }
    },
    {
      "cell_type": "code",
      "source": [
        "# Création du modèle KNN\n",
        "knn = # A COMPLETER"
      ],
      "metadata": {
        "id": "CY-uJnzyDjO8"
      },
      "execution_count": null,
      "outputs": []
    },
    {
      "cell_type": "markdown",
      "source": [
        "###Question 11\n",
        "Entraîner le knn sur le dataset X_train, avec pour labels y_train."
      ],
      "metadata": {
        "id": "eEsJlEWXD0yu"
      }
    },
    {
      "cell_type": "code",
      "source": [
        "# Entraînement du modèle sur les données d'entraînement\n",
        "knn#A COMPLETER\n"
      ],
      "metadata": {
        "id": "tYTIMGrK7_ji"
      },
      "execution_count": null,
      "outputs": []
    },
    {
      "cell_type": "markdown",
      "source": [
        "###Question 12\n",
        "Calculez la prédiction sur X_test de notre knn."
      ],
      "metadata": {
        "id": "1wfVKiN7DaKE"
      }
    },
    {
      "cell_type": "code",
      "source": [
        "# Prédiction sur les données de test\n",
        "y_pred = # A COMPLETER"
      ],
      "metadata": {
        "id": "Y2qxGux28Smf"
      },
      "execution_count": null,
      "outputs": []
    },
    {
      "cell_type": "markdown",
      "source": [
        "Nous allons désormais calculer la précision du modèle: nous allons calculer la différence moyenne entre le score de dépense prédit par le modèle et le vrai score de dépense."
      ],
      "metadata": {
        "id": "ZHuC_PU8ELBV"
      }
    },
    {
      "cell_type": "code",
      "source": [
        "# Évaluation de la précision\n",
        "precision = np.sum( np.abs((y_pred - y_test)) ) # Calcule la distance par la norme 1 entre y_pred et y_test\n",
        "print(f\"Précision du modèle KNN : {precision / X_test.shape[0]}\")"
      ],
      "metadata": {
        "id": "WgEwRZxd8M8f"
      },
      "execution_count": null,
      "outputs": []
    },
    {
      "cell_type": "code",
      "source": [
        "# Affichage de quelques prédictions pour vérifier\n",
        "print(\"Exemples de prédictions :\")\n",
        "for i in range(5):\n",
        "    print(f\"Vrai score de dépense: {y_test.iloc[i]}, Score de dépense prédit: {y_pred[i]}\")"
      ],
      "metadata": {
        "id": "hM0i5DNvFLXo"
      },
      "execution_count": null,
      "outputs": []
    },
    {
      "cell_type": "markdown",
      "source": [
        "###Question 13\n",
        "Faites varier l'hyperparamètre n_neighbors. Avec lequel obtenez vous la meilleure précision ? Donnez la valeur de l'hyperparamètre et la précision obtenue."
      ],
      "metadata": {
        "id": "qv356zpgEjwX"
      }
    }
  ]
}